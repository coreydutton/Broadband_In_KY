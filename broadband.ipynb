{
 "cells": [
  {
   "cell_type": "code",
   "execution_count": null,
   "metadata": {},
   "outputs": [],
   "source": [
    "# Import requirements\n",
    "import numpy as np\n",
    "import pandas as pd\n",
    "import math \n",
    "import matplotlib.pyplot as plt\n",
    "import seaborn as sns"
   ]
  },
  {
   "cell_type": "code",
   "execution_count": null,
   "metadata": {},
   "outputs": [],
   "source": [
    "# Read in broadband data from csv\n",
    "broadband = pd.read_csv('broadbandbyco.csv')"
   ]
  },
  {
   "cell_type": "markdown",
   "metadata": {},
   "source": [
    "I want to view the data and doublecheck all 120 counties are included."
   ]
  },
  {
   "cell_type": "code",
   "execution_count": null,
   "metadata": {},
   "outputs": [],
   "source": [
    "# View data\n",
    "print(broadband)"
   ]
  },
  {
   "cell_type": "markdown",
   "metadata": {},
   "source": [
    "Cleaning my data."
   ]
  },
  {
   "cell_type": "code",
   "execution_count": null,
   "metadata": {},
   "outputs": [],
   "source": [
    "# Remove unwanted characters from 'Population' column\n",
    "broadband['Coverage'] =broadband['Coverage'].str.replace('%', '')"
   ]
  },
  {
   "cell_type": "code",
   "execution_count": null,
   "metadata": {},
   "outputs": [],
   "source": [
    "# Convert 'Coverage' to floats\n",
    "broadband['Coverage'] =broadband['Coverage'].astype(float)"
   ]
  },
  {
   "cell_type": "code",
   "execution_count": null,
   "metadata": {},
   "outputs": [],
   "source": [
    "# Remove unwanted characters from 'Population' column\n",
    "broadband['Population'] =broadband['Population'].str.replace(',', '')"
   ]
  },
  {
   "cell_type": "code",
   "execution_count": null,
   "metadata": {},
   "outputs": [],
   "source": [
    "# Convert 'Population' to floats\n",
    "broadband['Population'] =broadband['Population'].astype(int)"
   ]
  },
  {
   "cell_type": "code",
   "execution_count": null,
   "metadata": {},
   "outputs": [],
   "source": [
    "# Round up values in 'Coverage' column\n",
    "broadband['Coverage'] = broadband['Coverage'].round(0)\n",
    "print(broadband)"
   ]
  },
  {
   "cell_type": "code",
   "execution_count": null,
   "metadata": {},
   "outputs": [],
   "source": [
    "# Sort dataframe by ascending population values \n",
    "broadband = broadband.sort_values('Population')"
   ]
  },
  {
   "cell_type": "markdown",
   "metadata": {},
   "source": [
    "Answer questions about my data.\n",
    "\n",
    "- What is the median broadband coverage and population in Kentucky?\n",
    "- What are the smallest five counties in Kentucky?\n",
    "- What are the largest five counties in Kentucky?\n",
    "- What county has the lowest broadband access?\n",
    "- How many counties have coverage under 50%?"
   ]
  },
  {
   "cell_type": "code",
   "execution_count": null,
   "metadata": {},
   "outputs": [],
   "source": [
    "# Determine median broadband coverage\n",
    "broadband['Coverage'].median()"
   ]
  },
  {
   "cell_type": "markdown",
   "metadata": {},
   "source": [
    "The median broadband coverage in Kentucky is 93%."
   ]
  },
  {
   "cell_type": "code",
   "execution_count": null,
   "metadata": {},
   "outputs": [],
   "source": [
    "# Determine median population size\n",
    "broadband['Population'].median()"
   ]
  },
  {
   "cell_type": "markdown",
   "metadata": {},
   "source": [
    "The median population size in Kentucky is 19,101."
   ]
  },
  {
   "cell_type": "code",
   "execution_count": null,
   "metadata": {},
   "outputs": [],
   "source": [
    "# Determine smallest 5 counties\n",
    "smallest_counties = broadband.head()\n",
    "print(smallest_counties)"
   ]
  },
  {
   "cell_type": "markdown",
   "metadata": {},
   "source": [
    "The five smallest counties in Kentucky are: Robertson, Owsley, Hickman, Carlisle, and Fulton."
   ]
  },
  {
   "cell_type": "code",
   "execution_count": null,
   "metadata": {},
   "outputs": [],
   "source": [
    "# Determine largest 5 counties\n",
    "largest_counties = broadband.tail()\n",
    "print(largest_counties)"
   ]
  },
  {
   "cell_type": "markdown",
   "metadata": {},
   "source": [
    "The five largest counties in Kentucky are: Warren, Boone, Kenton, Fayette, and Jefferson."
   ]
  },
  {
   "cell_type": "code",
   "execution_count": null,
   "metadata": {},
   "outputs": [],
   "source": [
    "# Determine lowest broadband access\n",
    "my_min = broadband['Coverage'].loc[broadband['Coverage'].idxmin()]      # Minimum in column\n",
    "print(my_min)"
   ]
  },
  {
   "cell_type": "code",
   "execution_count": null,
   "metadata": {},
   "outputs": [],
   "source": [
    "# Find matching county\n",
    "lowest_coverage = broadband[broadband['Coverage'] == 18] \n",
    "print(lowest_coverage)"
   ]
  },
  {
   "cell_type": "markdown",
   "metadata": {},
   "source": [
    "The county with the lowest broadband coverage is Hancock County at 18% coverage."
   ]
  },
  {
   "cell_type": "code",
   "execution_count": null,
   "metadata": {},
   "outputs": [],
   "source": [
    "coverage_under_50 = broadband[broadband['Coverage'] < 50] \n",
    "print(coverage_under_50)"
   ]
  },
  {
   "cell_type": "markdown",
   "metadata": {},
   "source": [
    "There are 7 counties in Kentucky with less than 50% broadband access."
   ]
  },
  {
   "cell_type": "markdown",
   "metadata": {},
   "source": [
    "Visualizing my data. "
   ]
  },
  {
   "cell_type": "code",
   "execution_count": null,
   "metadata": {},
   "outputs": [],
   "source": [
    "# Fig 1 \n",
    "broadband_by_pop = sns.regplot(x=broadband['Population'], y=broadband['Coverage'])\n",
    "plt.grid(False)\n",
    "plt.title('Figure 1 \\n KY Broadband Coverage by Population Size', fontsize= 12.5)\n",
    "plt.ylabel('Broadband Coverage in %', size =12)\n",
    "plt.xlabel('Population', size =12)\n",
    "plt.xlim([0, 780000])\n",
    "plt.ylim([0, 100])\n",
    "print(broadband_by_pop)"
   ]
  },
  {
   "cell_type": "code",
   "execution_count": null,
   "metadata": {},
   "outputs": [],
   "source": [
    "#Fig 2\n",
    "broadband_by_pop_2 = sns.regplot(x=broadband['Population'], y=broadband['Coverage'])\n",
    "plt.title('Figure 2 \\n KY Broadband Coverage - Smaller Populations', fontsize= 12.5)\n",
    "plt.ylabel('Broadband Coverage in %', size =12)\n",
    "plt.xlabel('Population', size =12)\n",
    "plt.xlim([0, 50000])\n",
    "plt.ylim([0, 100])\n",
    "print(broadband_by_pop_2)"
   ]
  },
  {
   "cell_type": "markdown",
   "metadata": {},
   "source": [
    "The lowest amounts of broadband coverage are found when the population of the county is under 100,000 people. "
   ]
  },
  {
   "cell_type": "code",
   "execution_count": null,
   "metadata": {},
   "outputs": [],
   "source": [
    "# Fig 3 Line plot of broadband coverage for smallest counties\n",
    "smallest_counties.plot( x= \"County\", y= \"Coverage\", color= \"violet\", marker= ('o'))\n",
    "plt.title('Figure 3 \\n Broadband Coverage in Smallest Kentucky Counties')\n",
    "plt.ylabel('Broadband Coverage in %', size =12)\n",
    "plt.xlabel('County', size =12)\n",
    "plt.ylim(0, 100)\n",
    "plt.margins(0)\n",
    "plt.show"
   ]
  },
  {
   "cell_type": "markdown",
   "metadata": {},
   "source": [
    "The five smallest counties in Kentucky have varying broadband coverage; but only one county out of the five (Owsley) has 100% coverage."
   ]
  },
  {
   "cell_type": "code",
   "execution_count": null,
   "metadata": {},
   "outputs": [],
   "source": [
    "# Fig 4 Line plot of broadband coverage for largest counties\n",
    "largest_counties.plot( x= \"County\", y= \"Coverage\", color= \"blue\", marker= ('o'))\n",
    "plt.title('Figure 3 \\n Broadband Coverage in Largest Kentucky Counties')\n",
    "plt.ylim([90, 100])\n",
    "plt.ylabel('Broadband Coverage in %', size =12)\n",
    "plt.xlabel('County', size =12)\n",
    "plt.margins(0)\n",
    "plt.show"
   ]
  },
  {
   "cell_type": "markdown",
   "metadata": {},
   "source": [
    "The five largest counties in Kentucky all have high broadband coverage, ranging from 96-100%. Three out of the five counties have 100% coverage. "
   ]
  }
 ],
 "metadata": {
  "kernelspec": {
   "display_name": "Python 3.10.4 64-bit",
   "language": "python",
   "name": "python3"
  },
  "language_info": {
   "codemirror_mode": {
    "name": "ipython",
    "version": 3
   },
   "file_extension": ".py",
   "mimetype": "text/x-python",
   "name": "python",
   "nbconvert_exporter": "python",
   "pygments_lexer": "ipython3",
   "version": "3.10.5"
  },
  "orig_nbformat": 4,
  "vscode": {
   "interpreter": {
    "hash": "4085944451bcf2991ff2a81e4121d3c9219e17cbd9048a809c44c837bff99cac"
   }
  }
 },
 "nbformat": 4,
 "nbformat_minor": 2
}
